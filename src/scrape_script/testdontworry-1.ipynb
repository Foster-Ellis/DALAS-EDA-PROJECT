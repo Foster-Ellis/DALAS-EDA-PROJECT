{
 "cells": [
  {
   "cell_type": "code",
   "execution_count": 74,
   "metadata": {},
   "outputs": [],
   "source": [
    "import requests\n",
    "from bs4 import BeautifulSoup\n",
    "import csv\n",
    "import xml.etree.ElementTree as ET\n",
    "import time\n",
    "\n",
    "from requests.auth import HTTPBasicAuth"
   ]
  },
  {
   "cell_type": "code",
   "execution_count": 93,
   "metadata": {},
   "outputs": [
    {
     "name": "stdout",
     "output_type": "stream",
     "text": [
      "Access Token: wAXva3VJLXpMSpjFvtyK3WkBCRa3\n"
     ]
    }
   ],
   "source": [
    "consumer_key = 'Lq3V1hAxII2Fv8YSdcrhfA538HzhsfzhelYqSUgzGU0A8AEU'\n",
    "consumer_secret_key = 'jHJjRSzVQBjCizDYmFg4cqWza2R8TOCcLaecRbXrJQcseLu8Lr0AqYXL1ldkAx8A'\n",
    "\n",
    "# EPO OAuth2 token URL\n",
    "token_url = \"https://ops.epo.org/3.2/auth/accesstoken\"\n",
    "\n",
    "# Request access token\n",
    "response = requests.post(\n",
    "    token_url,\n",
    "    auth=HTTPBasicAuth(consumer_key, consumer_secret_key),\n",
    "    data={\"grant_type\": \"client_credentials\"},\n",
    ")\n",
    "\n",
    "# Extract token\n",
    "if response.status_code == 200:\n",
    "    token = response.json()[\"access_token\"]\n",
    "    print(\"Access Token:\", token)\n",
    "else:\n",
    "    print(\"Failed to get token:\", response.text)"
   ]
  },
  {
   "cell_type": "code",
   "execution_count": 76,
   "metadata": {},
   "outputs": [],
   "source": [
    "def search_for_patents_by_year(year, token, start, end):\n",
    "    \n",
    "    search_url = \"https://ops.epo.org/rest-services/published-data/search\"\n",
    "\n",
    "    # Headers with authentication\n",
    "    headers = {\n",
    "        \"Authorization\": f\"Bearer {token}\",\n",
    "        \"Accept\": \"application/xml\",\n",
    "    }\n",
    "    \n",
    "    # Parameters for the search\n",
    "\n",
    "    params = {\n",
    "        \"q\": f'pd within \"{year},{year}\"',\n",
    "        \"Range\": f\"{start}-{end}\"  \n",
    "    }\n",
    "    \n",
    "    response = requests.get(search_url, headers=headers, params=params)\n",
    "    \n",
    "    if response.status_code == 200:\n",
    "        root = ET.fromstring(response.content)\n",
    "\n",
    "        # Namespace dictionary (important for parsing)\n",
    "        ns = {\"epo\": \"http://www.epo.org/exchange\"}\n",
    "\n",
    "        # Extract all document-id elements\n",
    "        patents = []\n",
    "        for doc in root.findall(\".//epo:document-id\", namespaces=ns):\n",
    "            country = doc.find(\"epo:country\", namespaces=ns)\n",
    "            doc_number = doc.find(\"epo:doc-number\", namespaces=ns)\n",
    "\n",
    "            if country is not None and doc_number is not None:\n",
    "                patents.append({\n",
    "                \"country\": country.text,\n",
    "                \"doc_number\": doc_number.text\n",
    "            })\n",
    "\n",
    "        return patents  # Returns a dictionary {doc-number: country}\n",
    "\n",
    "    else:\n",
    "        print(f\"Error: {response.status_code}, {response.text}\")\n",
    "        return None\n",
    "\n",
    "        \n",
    "#print(len(search_for_patents_by_year(1883, token, 2001, 2002)))\n"
   ]
  },
  {
   "cell_type": "code",
   "execution_count": 95,
   "metadata": {},
   "outputs": [
    {
     "name": "stdout",
     "output_type": "stream",
     "text": [
      "Error: 403, <?xml version=\"1.0\" encoding=\"UTF-8\" standalone=\"yes\"?>\n",
      "<fault xmlns=\"http://ops.epo.org\">\n",
      "    <code>CLIENT.RobotDetected</code>\n",
      "    <message>Recent behaviour implies you are a robot. The server is at the moment too busy to serve robots. Please try again later</message>\n",
      "</fault>\n",
      "\n",
      "1977\n",
      "Error: 403, <?xml version=\"1.0\" encoding=\"UTF-8\" standalone=\"yes\"?>\n",
      "<fault xmlns=\"http://ops.epo.org\">\n",
      "    <code>CLIENT.RobotDetected</code>\n",
      "    <message>Recent behaviour implies you are a robot. The server is at the moment too busy to serve robots. Please try again later</message>\n",
      "</fault>\n",
      "\n"
     ]
    },
    {
     "ename": "KeyboardInterrupt",
     "evalue": "",
     "output_type": "error",
     "traceback": [
      "\u001b[1;31m---------------------------------------------------------------------------\u001b[0m",
      "\u001b[1;31mKeyboardInterrupt\u001b[0m                         Traceback (most recent call last)",
      "Cell \u001b[1;32mIn[95], line 28\u001b[0m\n\u001b[0;32m     25\u001b[0m         \u001b[38;5;28;01mbreak\u001b[39;00m\n\u001b[0;32m     27\u001b[0m all_patents\u001b[38;5;241m.\u001b[39mappend(patents) \n\u001b[1;32m---> 28\u001b[0m \u001b[43mtime\u001b[49m\u001b[38;5;241;43m.\u001b[39;49m\u001b[43msleep\u001b[49m\u001b[43m(\u001b[49m\u001b[38;5;241;43m1.5\u001b[39;49m\u001b[43m)\u001b[49m\n\u001b[0;32m     29\u001b[0m \u001b[38;5;28mprint\u001b[39m(year)               \n",
      "\u001b[1;31mKeyboardInterrupt\u001b[0m: "
     ]
    }
   ],
   "source": [
    "all_patents = []\n",
    "\n",
    "for year in range(1977, 2026):\n",
    "    start = 1\n",
    "    end = 100\n",
    "    expected_length = 100\n",
    "    \n",
    "    patents = []\n",
    "    \n",
    "    while True:\n",
    "        try:\n",
    "            batch = search_for_patents_by_year(year, token, start, end)\n",
    "            \n",
    "            if len(batch) < expected_length:\n",
    "                patents.extend(batch)\n",
    "                break\n",
    "\n",
    "            patents.extend(batch)\n",
    "            start += 100\n",
    "            end += 100\n",
    "            time.sleep(1.5)\n",
    "            #print(len(patents))\n",
    "\n",
    "        except Exception as e:\n",
    "            break\n",
    "\n",
    "    all_patents.append(patents) \n",
    "    time.sleep(1.5)\n",
    "    print(year)               \n",
    "\n",
    "    \n",
    "\n",
    "\n"
   ]
  },
  {
   "cell_type": "code",
   "execution_count": 84,
   "metadata": {},
   "outputs": [
    {
     "name": "stdout",
     "output_type": "stream",
     "text": [
      "134\n"
     ]
    }
   ],
   "source": [
    "print(len(all_patents))"
   ]
  },
  {
   "cell_type": "code",
   "execution_count": null,
   "metadata": {},
   "outputs": [
    {
     "name": "stdout",
     "output_type": "stream",
     "text": [
      "CSV file 'patents.csv' has been created successfully.\n"
     ]
    }
   ],
   "source": [
    "csv_filename = \"patents_2.csv\"\n",
    "\n",
    "with open(csv_filename, mode=\"a\", newline=\"\", encoding=\"utf-8\") as csvfile:\n",
    "    writer = csv.writer(csvfile)\n",
    "    \n",
    "    # Write header\n",
    "    writer.writerow([\"year\", \"country\", \"doc_number\"])\n",
    "    \n",
    "    # Flatten the data while writing\n",
    "    for i in range (len(all_patents)):\n",
    "        year = 1977 + i\n",
    "        patent_list = all_patents[i]\n",
    "\n",
    "        for patent in patent_list:\n",
    "            writer.writerow([year, patent[\"country\"], patent[\"doc_number\"]])\n",
    "\n",
    "print(f\"CSV file '{csv_filename}' has been created successfully.\")"
   ]
  }
 ],
 "metadata": {
  "kernelspec": {
   "display_name": "Python 3",
   "language": "python",
   "name": "python3"
  },
  "language_info": {
   "codemirror_mode": {
    "name": "ipython",
    "version": 3
   },
   "file_extension": ".py",
   "mimetype": "text/x-python",
   "name": "python",
   "nbconvert_exporter": "python",
   "pygments_lexer": "ipython3",
   "version": "3.13.1"
  }
 },
 "nbformat": 4,
 "nbformat_minor": 2
}
