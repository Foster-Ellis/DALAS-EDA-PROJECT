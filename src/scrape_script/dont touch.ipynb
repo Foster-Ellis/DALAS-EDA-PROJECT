{
 "cells": [
  {
   "cell_type": "code",
   "execution_count": 3,
   "metadata": {},
   "outputs": [],
   "source": [
    "import requests\n",
    "from bs4 import BeautifulSoup\n",
    "import csv\n",
    "import xml.etree.ElementTree as ET\n",
    "import pandas as pd\n",
    "\n",
    "from requests.auth import HTTPBasicAuth"
   ]
  },
  {
   "cell_type": "code",
   "execution_count": 4,
   "metadata": {},
   "outputs": [
    {
     "name": "stdout",
     "output_type": "stream",
     "text": [
      "Access Token: UgUQAmW9AximGG4FOYplNnEn7QKA\n"
     ]
    }
   ],
   "source": [
    "consumer_key = 'Lq3V1hAxII2Fv8YSdcrhfA538HzhsfzhelYqSUgzGU0A8AEU'\n",
    "consumer_secret_key = 'jHJjRSzVQBjCizDYmFg4cqWza2R8TOCcLaecRbXrJQcseLu8Lr0AqYXL1ldkAx8A'\n",
    "\n",
    "# EPO OAuth2 token URL\n",
    "token_url = \"https://ops.epo.org/3.2/auth/accesstoken\"\n",
    "\n",
    "# Request access token\n",
    "response = requests.post(\n",
    "    token_url,\n",
    "    auth=HTTPBasicAuth(consumer_key, consumer_secret_key),\n",
    "    data={\"grant_type\": \"client_credentials\"},\n",
    ")\n",
    "\n",
    "# Extract token\n",
    "if response.status_code == 200:\n",
    "    token = response.json()[\"access_token\"]\n",
    "    print(\"Access Token:\", token)\n",
    "else:\n",
    "    print(\"Failed to get token:\", response.text)"
   ]
  },
  {
   "cell_type": "code",
   "execution_count": 15,
   "metadata": {},
   "outputs": [
    {
     "name": "stdout",
     "output_type": "stream",
     "text": [
      "XML data received!\n"
     ]
    }
   ],
   "source": [
    "# Define search URL\n",
    "search_url = \"https://ops.epo.org/rest-services/published-data/search\"\n",
    "\n",
    "# Headers with authentication\n",
    "headers = {\n",
    "    \"Authorization\": f\"Bearer {token}\",\n",
    "    \"Accept\": \"application/xml\",\n",
    "}\n",
    "\n",
    "# Parameters: Retrieve all patents (max 100 at a time)\n",
    "params = {\n",
    "    \"q\": \"pd within \\\"1782,1782\\\"\",\n",
    "    \"Range\": \"1-100\"\n",
    "}\n",
    "\n",
    "# Send request\n",
    "response = requests.get(search_url, headers=headers, params=params)\n",
    "\n",
    "# Check response\n",
    "if response.status_code == 200:\n",
    "    xml_data = response.text\n",
    "    print(\"XML data received!\")\n",
    "else:\n",
    "    print(\"Error:\", response.text)"
   ]
  },
  {
   "cell_type": "code",
   "execution_count": 16,
   "metadata": {},
   "outputs": [
    {
     "name": "stdout",
     "output_type": "stream",
     "text": [
      "GB\n",
      "178201321\n"
     ]
    }
   ],
   "source": [
    "tree = ET.ElementTree(ET.fromstring(xml_data))\n",
    "root = tree.getroot()\n",
    "\n",
    "namespaces = {'': 'http://www.epo.org/exchange'}  # Default namespace\n",
    "\n",
    "# Loop through each publication reference and extract the country\n",
    "for publication in root.findall(\".//ops:publication-reference\", namespaces={\"ops\": \"http://ops.epo.org\"}):\n",
    "    # Get the country from each publication reference\n",
    "    country = publication.find(\".//document-id/country\", namespaces=namespaces)\n",
    "    doc_number = publication.find(\".//document-id/doc-number\", namespaces=namespaces)\n",
    "    \n",
    "    if country is not None:\n",
    "        print(country.text)\n",
    "    \n",
    "    if doc_number is not None:\n",
    "        print(doc_number.text)\n",
    "    "
   ]
  }
 ],
 "metadata": {
  "kernelspec": {
   "display_name": "Python 3",
   "language": "python",
   "name": "python3"
  },
  "language_info": {
   "codemirror_mode": {
    "name": "ipython",
    "version": 3
   },
   "file_extension": ".py",
   "mimetype": "text/x-python",
   "name": "python",
   "nbconvert_exporter": "python",
   "pygments_lexer": "ipython3",
   "version": "3.13.1"
  }
 },
 "nbformat": 4,
 "nbformat_minor": 2
}
