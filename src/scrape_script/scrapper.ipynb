{
 "cells": [
  {
   "cell_type": "code",
   "execution_count": 1,
   "metadata": {},
   "outputs": [],
   "source": [
    "#Scrapping and ordering of the information\n",
    "import requests\n",
    "from bs4 import BeautifulSoup\n",
    "import csv\n",
    "\n",
    "url = \"https://en.wikipedia.org/wiki/List_of_inventors\"\n",
    "\n",
    "response = requests.get(url)\n",
    "soup = BeautifulSoup(response.text, \"html.parser\")\n",
    "\n",
    "content = soup.find(\"div\", class_=\"mw-content-ltr\")\n",
    "\n",
    "inventors_list_general = []\n",
    "\n",
    "uls = content.find_all(\"ul\") if content else []\n",
    "\n",
    "for ul in uls:\n",
    "    for li in ul.find_all(\"li\"):\n",
    "        full_text = li.get_text()\n",
    "        inventors_list_general.append(full_text)\n",
    "\n",
    "url = \"https://en.wikipedia.org/wiki/Timeline_of_scientific_discoveries\"\n",
    "\n",
    "response = requests.get(url)\n",
    "soup = BeautifulSoup(response.text, \"html.parser\")\n",
    "\n",
    "content = soup.find(\"div\", class_=\"mw-content-ltr\")\n",
    "\n",
    "inventors_list = []\n",
    "\n",
    "uls = content.find_all(\"ul\") if content else []\n",
    "\n",
    "for ul in uls:\n",
    "    for li in ul.find_all(\"li\"):\n",
    "        full_text = li.get_text()\n",
    "        inventors_list.append((full_text))\n",
    "\n",
    "\n",
    "del inventors_list_general[0:28]\n",
    "del inventors_list_general[1073:]\n",
    "del inventors_list[341:]"
   ]
  },
  {
   "cell_type": "code",
   "execution_count": 2,
   "metadata": {},
   "outputs": [],
   "source": [
    "#Export to csv\n",
    "def separar_y_guardar(variable_lista, archivo_csv):\n",
    "    with open(archivo_csv, mode='w', newline='', encoding='utf-8') as file:\n",
    "        writer = csv.writer(file)\n",
    "        writer.writerow([\"Year\"]+[\"Name of invention\"]) \n",
    "        \n",
    "        for item in variable_lista:\n",
    "            partes = item.split(\":\", 1) \n",
    "            writer.writerow([partes[0]]+[partes[1]]) \n",
    "\n",
    "def separar_y_guardar2(variable_lista, archivo_csv):\n",
    "    with open(archivo_csv, mode='w', newline='', encoding='utf-8') as file:\n",
    "        writer = csv.writer(file)\n",
    "        writer.writerow([\"Year\"]+[\"Inventions\"]) \n",
    "        \n",
    "        for item in variable_lista:\n",
    "            partes = item.split(\",\", 1) \n",
    "            if len(partes)==2:\n",
    "                writer.writerow([partes[0]]+[partes[1]]) \n",
    "            else:\n",
    "                writer.writerow(partes) \n",
    "\n",
    "separar_y_guardar(inventors_list, \"inventors_list.csv\")\n",
    "separar_y_guardar2(inventors_list_general, \"inventors_list_general.csv\")"
   ]
  }
 ],
 "metadata": {
  "kernelspec": {
   "display_name": "Python 3",
   "language": "python",
   "name": "python3"
  },
  "language_info": {
   "codemirror_mode": {
    "name": "ipython",
    "version": 3
   },
   "file_extension": ".py",
   "mimetype": "text/x-python",
   "name": "python",
   "nbconvert_exporter": "python",
   "pygments_lexer": "ipython3",
   "version": "3.11.9"
  }
 },
 "nbformat": 4,
 "nbformat_minor": 2
}
