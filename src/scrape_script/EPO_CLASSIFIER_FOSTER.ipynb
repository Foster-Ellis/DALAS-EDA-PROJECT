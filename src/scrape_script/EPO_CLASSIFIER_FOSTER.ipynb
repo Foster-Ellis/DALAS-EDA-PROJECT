{
 "cells": [
  {
   "cell_type": "code",
   "execution_count": 2,
   "metadata": {},
   "outputs": [],
   "source": [
    "import requests\n",
    "from bs4 import BeautifulSoup\n",
    "import xml.etree.ElementTree as ET\n",
    "import time\n",
    "import pandas as pd\n",
    "\n",
    "from requests.auth import HTTPBasicAuth"
   ]
  },
  {
   "cell_type": "code",
   "execution_count": 8,
   "metadata": {},
   "outputs": [],
   "source": [
    "consumer_key = 'Lq3V1hAxII2Fv8YSdcrhfA538HzhsfzhelYqSUgzGU0A8AEU'\n",
    "consumer_secret_key = 'jHJjRSzVQBjCizDYmFg4cqWza2R8TOCcLaecRbXrJQcseLu8Lr0AqYXL1ldkAx8A'\n",
    "\n",
    "# EPO OAuth2 token URL\n",
    "token_url = \"https://ops.epo.org/3.2/auth/accesstoken\"\n",
    "\n",
    "def get_token():\n",
    "    response = requests.post(\n",
    "        token_url,\n",
    "        auth=HTTPBasicAuth(consumer_key, consumer_secret_key),\n",
    "        data={\"grant_type\": \"client_credentials\"},\n",
    "    )\n",
    "    \n",
    "    if response.status_code == 200:\n",
    "        return response.json()[\"access_token\"]\n",
    "    else:\n",
    "        return None"
   ]
  },
  {
   "cell_type": "code",
   "execution_count": 6,
   "metadata": {},
   "outputs": [
    {
     "name": "stdout",
     "output_type": "stream",
     "text": [
      "1876\n"
     ]
    }
   ],
   "source": [
    "df = pd.read_csv(\"../../raw_data/scrape_data/raw_data_balam.csv\", encoding=\"utf-8\")\n",
    "print(df.iloc[0, df.columns.get_loc(\"Year of Invention\")])"
   ]
  },
  {
   "cell_type": "code",
   "execution_count": null,
   "metadata": {},
   "outputs": [],
   "source": [
    "search_url = \"https://ops.epo.org/rest-services/published-data/search\"\n",
    "\n",
    "\n",
    "def search_for_patents(keyword, token, year):\n",
    "    \n",
    "    search_url = \"https://ops.epo.org/rest-services/published-data/search\"\n",
    "\n",
    "    # Headers with authentication\n",
    "    headers = {\n",
    "        \"Authorization\": f\"Bearer {token}\",\n",
    "        \"Accept\": \"application/xml\",\n",
    "    }\n",
    "    \n",
    "    # Parameters for the search\n",
    "\n",
    "    params = {\n",
    "        \"q\": f'ti=\"{keyword}\" AND pd={year}',\n",
    "        \"range\": \"1\"    \n",
    "    }\n",
    "    \n",
    "    response = requests.get(search_url, headers=headers, params=params)\n",
    "    \n",
    "    if response.status_code == 200:\n",
    "        return response.text  # You can process the XML response further\n",
    "    else:\n",
    "        return f\"Error: {response.status_code}, {response.text}\""
   ]
  },
  {
   "cell_type": "code",
   "execution_count": 12,
   "metadata": {},
   "outputs": [
    {
     "name": "stdout",
     "output_type": "stream",
     "text": [
      "None\n"
     ]
    }
   ],
   "source": [
    "token = get_token()\n",
    "if token:\n",
    "    result = search_for_patents(\"telephone\", token, 1876)\n",
    "    print(result)\n",
    "else:\n",
    "    print(\"Failed to get token.\")"
   ]
  }
 ],
 "metadata": {
  "kernelspec": {
   "display_name": "Python 3",
   "language": "python",
   "name": "python3"
  },
  "language_info": {
   "codemirror_mode": {
    "name": "ipython",
    "version": 3
   },
   "file_extension": ".py",
   "mimetype": "text/x-python",
   "name": "python",
   "nbconvert_exporter": "python",
   "pygments_lexer": "ipython3",
   "version": "3.13.1"
  }
 },
 "nbformat": 4,
 "nbformat_minor": 2
}
