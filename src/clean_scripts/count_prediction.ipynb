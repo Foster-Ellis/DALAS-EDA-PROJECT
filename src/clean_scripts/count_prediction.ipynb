{
 "cells": [
  {
   "cell_type": "code",
   "execution_count": 2,
   "id": "8fff4eee",
   "metadata": {},
   "outputs": [],
   "source": [
    "import pandas as pd\n",
    "import glob\n",
    "\n",
    "from sklearn.linear_model import LinearRegression\n",
    "from sklearn.preprocessing import PolynomialFeatures\n",
    "from sklearn.pipeline import make_pipeline\n",
    "import numpy as np"
   ]
  },
  {
   "cell_type": "code",
   "execution_count": 26,
   "id": "1aee1c7a",
   "metadata": {},
   "outputs": [
    {
     "name": "stdout",
     "output_type": "stream",
     "text": [
      "Loaded 3659474 rows from 6 files.\n"
     ]
    }
   ],
   "source": [
    "dtypes = {\n",
    "    \"year\": int,\n",
    "    \"country\": str,\n",
    "    \"doc_number\": str  # Treat doc_number as a string initially to avoid mixed type issues\n",
    "}\n",
    "\n",
    "# Load CSV files with specified dtypes\n",
    "csv_files = glob.glob(\"../../raw_data/scrape_data/patents_foster_*.csv\")\n",
    "dfs = [pd.read_csv(file, dtype=dtypes) for file in csv_files]\n",
    "df_all = pd.concat(dfs, ignore_index=True)\n",
    "\n",
    "print(f\"Loaded {len(df_all)} rows from {len(csv_files)} files.\")\n"
   ]
  },
  {
   "cell_type": "code",
   "execution_count": 28,
   "id": "ed3366e7",
   "metadata": {},
   "outputs": [
    {
     "name": "stdout",
     "output_type": "stream",
     "text": [
      "         year country doc_number\n",
      "3659464  1935      ES    2800290\n",
      "3659465  1935      ES    2800284\n",
      "3659466  1935      ES    2800286\n",
      "3659467  1935      ES    2800282\n",
      "3659468  1935      ES    2800325\n",
      "3659469  1935      ES    2800323\n",
      "3659470  1935      ES    2800281\n",
      "3659471  1935      ES    2800279\n",
      "3659472  1935      ES    2800283\n",
      "3659473  1935      ES    2800338\n"
     ]
    }
   ],
   "source": [
    "print(df_all.tail(10))"
   ]
  },
  {
   "cell_type": "code",
   "execution_count": 25,
   "id": "23cd664a",
   "metadata": {},
   "outputs": [
    {
     "data": {
      "text/html": [
       "<div>\n",
       "<style scoped>\n",
       "    .dataframe tbody tr th:only-of-type {\n",
       "        vertical-align: middle;\n",
       "    }\n",
       "\n",
       "    .dataframe tbody tr th {\n",
       "        vertical-align: top;\n",
       "    }\n",
       "\n",
       "    .dataframe thead th {\n",
       "        text-align: right;\n",
       "    }\n",
       "</style>\n",
       "<table border=\"1\" class=\"dataframe\">\n",
       "  <thead>\n",
       "    <tr style=\"text-align: right;\">\n",
       "      <th></th>\n",
       "      <th>year</th>\n",
       "      <th>patents_collected</th>\n",
       "    </tr>\n",
       "  </thead>\n",
       "  <tbody>\n",
       "    <tr>\n",
       "      <th>187</th>\n",
       "      <td>1887</td>\n",
       "      <td>24655.0</td>\n",
       "    </tr>\n",
       "    <tr>\n",
       "      <th>257</th>\n",
       "      <td>1957</td>\n",
       "      <td>NaN</td>\n",
       "    </tr>\n",
       "    <tr>\n",
       "      <th>210</th>\n",
       "      <td>1910</td>\n",
       "      <td>89111.0</td>\n",
       "    </tr>\n",
       "    <tr>\n",
       "      <th>51</th>\n",
       "      <td>1751</td>\n",
       "      <td>NaN</td>\n",
       "    </tr>\n",
       "    <tr>\n",
       "      <th>234</th>\n",
       "      <td>1934</td>\n",
       "      <td>NaN</td>\n",
       "    </tr>\n",
       "    <tr>\n",
       "      <th>267</th>\n",
       "      <td>1967</td>\n",
       "      <td>NaN</td>\n",
       "    </tr>\n",
       "    <tr>\n",
       "      <th>285</th>\n",
       "      <td>1985</td>\n",
       "      <td>NaN</td>\n",
       "    </tr>\n",
       "    <tr>\n",
       "      <th>209</th>\n",
       "      <td>1909</td>\n",
       "      <td>87119.0</td>\n",
       "    </tr>\n",
       "    <tr>\n",
       "      <th>30</th>\n",
       "      <td>1730</td>\n",
       "      <td>NaN</td>\n",
       "    </tr>\n",
       "    <tr>\n",
       "      <th>48</th>\n",
       "      <td>1748</td>\n",
       "      <td>NaN</td>\n",
       "    </tr>\n",
       "  </tbody>\n",
       "</table>\n",
       "</div>"
      ],
      "text/plain": [
       "     year  patents_collected\n",
       "187  1887            24655.0\n",
       "257  1957                NaN\n",
       "210  1910            89111.0\n",
       "51   1751                NaN\n",
       "234  1934                NaN\n",
       "267  1967                NaN\n",
       "285  1985                NaN\n",
       "209  1909            87119.0\n",
       "30   1730                NaN\n",
       "48   1748                NaN"
      ]
     },
     "metadata": {},
     "output_type": "display_data"
    }
   ],
   "source": [
    "#Count patents per year from your collected data\n",
    "yearly_counts = df_all['year'].value_counts().sort_index()\n",
    "\n",
    "# Create a full range of years\n",
    "full_years = pd.DataFrame({'year': range(1700, 2025)})\n",
    "\n",
    "# Merge the counts with the full year range\n",
    "df_year_summary = full_years.merge(\n",
    "    yearly_counts.rename('patents_collected'), \n",
    "    how='left', \n",
    "    left_on='year', \n",
    "    right_index=True\n",
    ")\n",
    "\n",
    "# Add is_actual and patents_predicted columns\n",
    "#df_year_summary['is_actual'] = df_year_summary['patents_collected'].notna()\n",
    "#df_year_summary['is_actual'] = df_year_summary['year'] <= 1928\n",
    "\n",
    "#mask_pre1928 = (df_year_summary['year'] <= 1928)\n",
    "#df_year_summary.loc[mask_pre1928 & df_year_summary['patents_collected'].isna(), 'patents_collected'] = 0\n",
    "\n",
    "#df_year_summary['patents_predicted'] = pd.NA\n",
    "\n",
    "\n",
    "\n",
    "display(df_year_summary.sample(10))\n"
   ]
  },
  {
   "cell_type": "code",
   "execution_count": 5,
   "id": "51e3abdb",
   "metadata": {},
   "outputs": [
    {
     "name": "stdout",
     "output_type": "stream",
     "text": [
      "year                   int64\n",
      "patents_collected    float64\n",
      "is_actual               bool\n",
      "patents_predicted     object\n",
      "dtype: object\n"
     ]
    }
   ],
   "source": [
    "print(df_year_summary.dtypes)"
   ]
  },
  {
   "cell_type": "code",
   "execution_count": 7,
   "id": "42528fdf",
   "metadata": {},
   "outputs": [],
   "source": [
    "# Prepare the training data (years before 1928 with is_actual=True)\n",
    "train_data = df_year_summary[df_year_summary['is_actual'] == True]  # Filter rows before 1928\n",
    "\n",
    "X_train = train_data['year'].values.reshape(-1, 1)\n",
    "y_train = train_data['patents_collected'].values\n",
    "\n",
    "# PolynomialFeatures (degree=2 for quadratic regression)\n",
    "poly = PolynomialFeatures(degree=2)\n",
    "X_poly = poly.fit_transform(X_train)\n",
    "\n",
    "# Train the LinearRegression model\n",
    "model = LinearRegression()\n",
    "model.fit(X_poly, y_train)\n",
    "\n",
    "# Make predictions for all years (1700-2024)\n",
    "all_years = df_year_summary['year'].values.reshape(-1, 1)\n",
    "X_all_poly = poly.transform(all_years)\n",
    "df_year_summary['patents_predicted'] = model.predict(X_all_poly)\n",
    "\n",
    "# Update predictions only for missing patent counts (NaN) after 1928\n",
    "df_year_summary.loc[df_year_summary['is_actual'] == False, 'patents_predicted'] = model.predict(\n",
    "    poly.transform(df_year_summary.loc[df_year_summary['is_actual'] == False, 'year'].values.reshape(-1, 1))\n",
    ")\n"
   ]
  },
  {
   "cell_type": "code",
   "execution_count": 8,
   "id": "1dc51468",
   "metadata": {},
   "outputs": [
    {
     "name": "stdout",
     "output_type": "stream",
     "text": [
      "     year  patents_collected  is_actual  patents_predicted\n",
      "0    1700                0.0       True       18144.638628\n",
      "1    1701                0.0       True       17417.889092\n",
      "2    1702                0.0       True       16700.370509\n",
      "3    1703                0.0       True       15992.082877\n",
      "4    1704                0.0       True       15293.026196\n",
      "..    ...                ...        ...                ...\n",
      "320  2020                NaN      False      256732.555793\n",
      "321  2021                NaN      False      258959.710762\n",
      "322  2022                NaN      False      261196.096682\n",
      "323  2023                NaN      False      263441.713555\n",
      "324  2024                NaN      False      265696.561378\n",
      "\n",
      "[325 rows x 4 columns]\n"
     ]
    }
   ],
   "source": [
    "print(df_year_summary)\n"
   ]
  }
 ],
 "metadata": {
  "kernelspec": {
   "display_name": "DSA",
   "language": "python",
   "name": "python3"
  },
  "language_info": {
   "codemirror_mode": {
    "name": "ipython",
    "version": 3
   },
   "file_extension": ".py",
   "mimetype": "text/x-python",
   "name": "python",
   "nbconvert_exporter": "python",
   "pygments_lexer": "ipython3",
   "version": "3.11.7"
  }
 },
 "nbformat": 4,
 "nbformat_minor": 5
}
