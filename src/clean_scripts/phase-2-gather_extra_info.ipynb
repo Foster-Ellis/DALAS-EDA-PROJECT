{
 "cells": [
  {
   "cell_type": "code",
   "execution_count": null,
   "id": "b3ce0863",
   "metadata": {},
   "outputs": [],
   "source": [
    "import pandas as pd\n",
    "\n"
   ]
  },
  {
   "cell_type": "code",
   "execution_count": null,
   "id": "ac5ade52",
   "metadata": {},
   "outputs": [],
   "source": [
    "data_to_collect = pd.read_csv('sampled_patents(used to generate clean data).csv')\n",
    "\n",
    "columns = ['year', 'patent', 'name_of_patenter', 'country', 'doc_number', 'categorization']\n",
    "collected_df = pd.DataFrame(columns=columns)\n"
   ]
  }
 ],
 "metadata": {
  "kernelspec": {
   "display_name": "DSA",
   "language": "python",
   "name": "python3"
  },
  "language_info": {
   "codemirror_mode": {
    "name": "ipython",
    "version": 3
   },
   "file_extension": ".py",
   "mimetype": "text/x-python",
   "name": "python",
   "nbconvert_exporter": "python",
   "pygments_lexer": "ipython3",
   "version": "3.11.7"
  }
 },
 "nbformat": 4,
 "nbformat_minor": 5
}
