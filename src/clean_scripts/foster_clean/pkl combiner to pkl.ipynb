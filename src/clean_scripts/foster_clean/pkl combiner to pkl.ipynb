{
 "cells": [
  {
   "cell_type": "code",
   "execution_count": 1,
   "id": "1285bf78",
   "metadata": {},
   "outputs": [],
   "source": [
    "import os\n",
    "import glob\n",
    "import pandas as pd"
   ]
  },
  {
   "cell_type": "code",
   "execution_count": 5,
   "id": "deb5c028",
   "metadata": {},
   "outputs": [
    {
     "name": "stdout",
     "output_type": "stream",
     "text": [
      "Found 10 files\n"
     ]
    }
   ],
   "source": [
    "# Parameters\n",
    "OUTPUT_DIR = \"../../../raw_data/scrape_data/foster_patents\"\n",
    "FILE_PREFIX = \"collected_patents\"\n",
    "\n",
    "# Get all 19th-century files\n",
    "pkl_files = glob.glob(os.path.join(OUTPUT_DIR, f\"{FILE_PREFIX}_*.pkl\"))\n",
    "\n",
    "# Define expected dtypes\n",
    "dtypes = {\n",
    "    \"year\": int,\n",
    "    \"country\": str,\n",
    "    \"doc_number\": str\n",
    "}\n",
    "\n",
    "print(f\"Found {len(pkl_files)} files\")"
   ]
  },
  {
   "cell_type": "code",
   "execution_count": 9,
   "id": "a20dad66",
   "metadata": {},
   "outputs": [
    {
     "name": "stdout",
     "output_type": "stream",
     "text": [
      "Total rows: 28042\n"
     ]
    },
    {
     "data": {
      "text/html": [
       "<div>\n",
       "<style scoped>\n",
       "    .dataframe tbody tr th:only-of-type {\n",
       "        vertical-align: middle;\n",
       "    }\n",
       "\n",
       "    .dataframe tbody tr th {\n",
       "        vertical-align: top;\n",
       "    }\n",
       "\n",
       "    .dataframe thead th {\n",
       "        text-align: right;\n",
       "    }\n",
       "</style>\n",
       "<table border=\"1\" class=\"dataframe\">\n",
       "  <thead>\n",
       "    <tr style=\"text-align: right;\">\n",
       "      <th></th>\n",
       "      <th>year</th>\n",
       "      <th>patent</th>\n",
       "      <th>name_of_patenter</th>\n",
       "      <th>country</th>\n",
       "      <th>doc_number</th>\n",
       "      <th>IPCR</th>\n",
       "      <th>applicant/inventor</th>\n",
       "    </tr>\n",
       "  </thead>\n",
       "  <tbody>\n",
       "    <tr>\n",
       "      <th>0</th>\n",
       "      <td>1782</td>\n",
       "      <td>Steam engines</td>\n",
       "      <td>[WATT JAMES [GB]]</td>\n",
       "      <td>GB</td>\n",
       "      <td>178201321</td>\n",
       "      <td>[]</td>\n",
       "      <td>inventor</td>\n",
       "    </tr>\n",
       "    <tr>\n",
       "      <th>1</th>\n",
       "      <td>1784</td>\n",
       "      <td>Fire and steam engines</td>\n",
       "      <td>[WATT JAMES [GB]]</td>\n",
       "      <td>GB</td>\n",
       "      <td>178401432</td>\n",
       "      <td>[]</td>\n",
       "      <td>inventor</td>\n",
       "    </tr>\n",
       "    <tr>\n",
       "      <th>2</th>\n",
       "      <td>1785</td>\n",
       "      <td>None</td>\n",
       "      <td>None</td>\n",
       "      <td>GB</td>\n",
       "      <td>178501470</td>\n",
       "      <td>[]</td>\n",
       "      <td>None</td>\n",
       "    </tr>\n",
       "    <tr>\n",
       "      <th>3</th>\n",
       "      <td>1786</td>\n",
       "      <td>None</td>\n",
       "      <td>None</td>\n",
       "      <td>GB</td>\n",
       "      <td>178601565</td>\n",
       "      <td>[]</td>\n",
       "      <td>None</td>\n",
       "    </tr>\n",
       "    <tr>\n",
       "      <th>4</th>\n",
       "      <td>1787</td>\n",
       "      <td>None</td>\n",
       "      <td>None</td>\n",
       "      <td>GB</td>\n",
       "      <td>178701616</td>\n",
       "      <td>[]</td>\n",
       "      <td>None</td>\n",
       "    </tr>\n",
       "  </tbody>\n",
       "</table>\n",
       "</div>"
      ],
      "text/plain": [
       "   year                  patent   name_of_patenter country doc_number IPCR  \\\n",
       "0  1782           Steam engines  [WATT JAMES [GB]]      GB  178201321   []   \n",
       "1  1784  Fire and steam engines  [WATT JAMES [GB]]      GB  178401432   []   \n",
       "2  1785                    None               None      GB  178501470   []   \n",
       "3  1786                    None               None      GB  178601565   []   \n",
       "4  1787                    None               None      GB  178701616   []   \n",
       "\n",
       "  applicant/inventor  \n",
       "0           inventor  \n",
       "1           inventor  \n",
       "2               None  \n",
       "3               None  \n",
       "4               None  "
      ]
     },
     "metadata": {},
     "output_type": "display_data"
    }
   ],
   "source": [
    "dfs = [pd.read_pickle(file) for file in pkl_files]\n",
    "combined_df = pd.concat(dfs, ignore_index=True)\n",
    "\n",
    "total_rows = len(combined_df)\n",
    "print(f\"Total rows: {total_rows}\")\n",
    "display(combined_df.head())\n",
    "\n",
    "combined_df.to_pickle(os.path.join(OUTPUT_DIR, f\"all_{FILE_PREFIX}_with_full_data.pkl\"))"
   ]
  }
 ],
 "metadata": {
  "kernelspec": {
   "display_name": "Python 3",
   "language": "python",
   "name": "python3"
  },
  "language_info": {
   "codemirror_mode": {
    "name": "ipython",
    "version": 3
   },
   "file_extension": ".py",
   "mimetype": "text/x-python",
   "name": "python",
   "nbconvert_exporter": "python",
   "pygments_lexer": "ipython3",
   "version": "3.13.1"
  }
 },
 "nbformat": 4,
 "nbformat_minor": 5
}
