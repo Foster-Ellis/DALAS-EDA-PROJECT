{
 "cells": [
  {
   "cell_type": "code",
   "execution_count": 10,
   "id": "5347555d",
   "metadata": {},
   "outputs": [],
   "source": [
    "import os\n",
    "import glob\n",
    "import pandas as pd"
   ]
  },
  {
   "cell_type": "code",
   "execution_count": 11,
   "id": "d33708fb",
   "metadata": {},
   "outputs": [
    {
     "name": "stdout",
     "output_type": "stream",
     "text": [
      "Found 10 files\n"
     ]
    }
   ],
   "source": [
    "# Parameters\n",
    "OUTPUT_DIR = \"../../../raw_data/scrape_data/foster_patents\"\n",
    "FILE_PREFIX = \"patents_foster\"\n",
    "\n",
    "# Get all 19th-century files\n",
    "csv_files = glob.glob(os.path.join(OUTPUT_DIR, f\"{FILE_PREFIX}_*.csv\"))\n",
    "\n",
    "# Define expected dtypes\n",
    "dtypes = {\n",
    "    \"year\": int,\n",
    "    \"country\": str,\n",
    "    \"doc_number\": str\n",
    "}\n",
    "\n",
    "print(f\"Found {len(csv_files)} files\")\n"
   ]
  },
  {
   "cell_type": "code",
   "execution_count": 12,
   "id": "b39d26d5",
   "metadata": {},
   "outputs": [
    {
     "name": "stdout",
     "output_type": "stream",
     "text": [
      "Total rows: 3814774\n"
     ]
    }
   ],
   "source": [
    "dfs = [pd.read_csv(file, dtype=dtypes) for file in csv_files]\n",
    "combined_df = pd.concat(dfs, ignore_index=True)\n",
    "\n",
    "total_rows = len(combined_df)\n",
    "print(f\"Total rows: {total_rows}\")\n",
    "\n",
    "combined_df.to_pickle(os.path.join(OUTPUT_DIR, f\"all_{FILE_PREFIX}.pkl\"))"
   ]
  }
 ],
 "metadata": {
  "kernelspec": {
   "display_name": "Python 3",
   "language": "python",
   "name": "python3"
  },
  "language_info": {
   "codemirror_mode": {
    "name": "ipython",
    "version": 3
   },
   "file_extension": ".py",
   "mimetype": "text/x-python",
   "name": "python",
   "nbconvert_exporter": "python",
   "pygments_lexer": "ipython3",
   "version": "3.13.1"
  }
 },
 "nbformat": 4,
 "nbformat_minor": 5
}
